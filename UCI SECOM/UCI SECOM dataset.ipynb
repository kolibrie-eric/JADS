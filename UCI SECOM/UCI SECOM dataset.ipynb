{
 "cells": [
  {
   "cell_type": "markdown",
   "metadata": {},
   "source": [
    "# UCI SECOM dataset\n",
    "\n",
    "Approaches for the class imbalance problem, feature selection and causality in semicondutor manufacturing process line data.\n",
    "\n",
    "## Data Description\n",
    "\n",
    "The SECOM dataset in the UCI Machine Learning Repository is semicondutor manufacturing data which has 1567 records, 590 anonymized features and 104 fails. The process yield has a simple pass/fail response (encoded -1/1).\n",
    "\n",
    "The dataset has the following characteristics:\n",
    "\n",
    "1. two-class problem\n",
    "2. an imbalance with a 14:1 skew of pass to fails\n",
    "3. large number of features -- 590\n",
    "4. missing data\n",
    "5. features/columns which do not have sufficient information\n",
    "6. 4% of the columns/features have more than 50% of their records missing\n",
    "7. some columns have constant values\n",
    "\n",
    "## Excercises\n",
    "\n",
    "The SECOM dataset presents us with two problems, namely\n",
    "\n",
    "Working with skewed data, i.e. an imbalanced classification problem\n",
    "1. Feature selection\n",
    "2. In this project, you will explore both tasks.\n",
    "\n",
    "### Exercise 1: Imbalanced classification\n",
    "\n",
    "- Try to successfully predict fails using i) cost sensitive learning approach and ii) sampling-based approach\n",
    "- Evaluate performance using the precision-recall curve\n",
    "- Discuss the pros and cons of different operating points on the PR curve\n",
    "\n",
    "### Exercise 2: Feature reduction\n",
    "\n",
    "A secondary objective will be feature reduction. A streamlined feature set can not only lead to better prediction accuracy and data understanding but also save manufacturing resources. Explore causal understanding of the manufacturing process using the 590 features.\n",
    "\n"
   ]
  },
  {
   "cell_type": "code",
   "execution_count": 2,
   "metadata": {},
   "outputs": [
    {
     "data": {
      "text/plain": [
       "(1567, 592)"
      ]
     },
     "execution_count": 2,
     "metadata": {},
     "output_type": "execute_result"
    }
   ],
   "source": [
    "import pandas as pd\n",
    "\n",
    "uci_secom = pd.read_csv(\"https://github.com/jads-nl/discover-projects/blob/main/uci-secom/uci-secom.csv?raw=true\")\n",
    "uci_secom.shape"
   ]
  },
  {
   "cell_type": "markdown",
   "metadata": {},
   "source": []
  },
  {
   "cell_type": "code",
   "execution_count": null,
   "metadata": {},
   "outputs": [],
   "source": []
  }
 ],
 "metadata": {
  "kernelspec": {
   "display_name": "Python 3",
   "language": "python",
   "name": "python3"
  },
  "language_info": {
   "codemirror_mode": {
    "name": "ipython",
    "version": 3
   },
   "file_extension": ".py",
   "mimetype": "text/x-python",
   "name": "python",
   "nbconvert_exporter": "python",
   "pygments_lexer": "ipython3",
   "version": "3.7.4"
  }
 },
 "nbformat": 4,
 "nbformat_minor": 4
}
