{
 "metadata": {
  "language_info": {
   "codemirror_mode": {
    "name": "ipython",
    "version": 3
   },
   "file_extension": ".py",
   "mimetype": "text/x-python",
   "name": "python",
   "nbconvert_exporter": "python",
   "pygments_lexer": "ipython3",
   "version": "3.8.5-final"
  },
  "orig_nbformat": 2,
  "kernelspec": {
   "name": "python3",
   "display_name": "Python 3",
   "language": "python"
  }
 },
 "nbformat": 4,
 "nbformat_minor": 2,
 "cells": [
  {
   "cell_type": "code",
   "execution_count": 93,
   "metadata": {},
   "outputs": [],
   "source": [
    "KING = 'king'\n",
    "QUEEN = 'queen'\n",
    "JACK = 'jack'\n",
    "TEN = 'ten'\n",
    "NINE = 'nine'\n",
    "EIGHT = 'eight'\n",
    "SEVEN = 'seven'\n",
    "SIX = 'six'\n",
    "FIVE = 'five'\n",
    "FOUR = 'four'\n",
    "THREE = 'three'\n",
    "TWO = 'two'\n",
    "ACE = 'ace'\n",
    "NRCARDS = 13\n",
    "\n",
    "OPEN = 1\n",
    "DRAWN = 2\n",
    "CLOSE = 3\n",
    "\n",
    "cards = { 'ace' : 1, 'king' : 13, 'queen': 12, 'jack': 11, 'ten': 10, 'nine': 9, 'eight': 8, 'seven': 7, 'six': 6, 'five': 5, 'four': 4, 'three': 3, 'two': 2}\n",
    "stack = [KING, ACE, FIVE, FOUR, TWO, TEN, NINE, FIVE, THREE, KING, QUEEN, EIGHT, QUEEN, JACK, SIX, FIVE, THREE, KING, FIVE, QUEEN, FOUR, EIGHT, KING, ACE]\n",
    "rows = [\n",
    "    {TEN : OPEN}, {JACK : OPEN},  {THREE : OPEN}, {FOUR : OPEN}, {NINE : OPEN}, {SEVEN : OPEN}, {NINE : OPEN}, {JACK : OPEN}, {SIX : OPEN}, {SIX : OPEN},\n",
    "    {ACE : CLOSE}, {SEVEN : CLOSE}, {ACE : CLOSE}, {EIGHT : CLOSE}, {TEN : CLOSE}, {SEVEN : CLOSE}, {TWO : CLOSE}, {SEVEN : CLOSE}, {JACK : CLOSE},\n",
    "    {THREE : CLOSE}, {TWO : CLOSE}, {FOUR : CLOSE}, {NINE : CLOSE}, {SIX : CLOSE}, {TWO : CLOSE},\n",
    "    {TEN : CLOSE}, {EIGHT : CLOSE}, {QUEEN : CLOSE} ]"
   ]
  },
  {
   "cell_type": "code",
   "execution_count": 94,
   "metadata": {},
   "outputs": [],
   "source": [
    "def draw_card():\n",
    "    global stack_pointer\n",
    "    current_pointer = stack_pointer\n",
    "    stack_pointer = stack_pointer + 1\n",
    "    print ( f'The next card drawn is {stack[current_pointer]}' )\n",
    "    return stack[current_pointer], cards[stack[current_pointer]]"
   ]
  },
  {
   "cell_type": "code",
   "execution_count": 95,
   "metadata": {},
   "outputs": [],
   "source": [
    "def find_card_by_value(search_value):\n",
    "    global cards\n",
    "    for name, value in cards.items():\n",
    "        if value == search_value:\n",
    "            return name"
   ]
  },
  {
   "source": [
    "stack_pointer = 0\n",
    "path = []"
   ],
   "cell_type": "code",
   "metadata": {},
   "execution_count": 96,
   "outputs": []
  },
  {
   "cell_type": "code",
   "execution_count": 97,
   "metadata": {},
   "outputs": [],
   "source": [
    "iters = 0\n",
    "max_iters = 4\n",
    "def find_route( rows ):\n",
    "    global stack_pointer, iters, max_iters\n",
    "    global stack\n",
    "    global path\n",
    "\n",
    "    # Initialise path\n",
    "    if iters == 0:\n",
    "        path = []\n",
    "\n",
    "    # Next iteration\n",
    "    iters = iters + 1\n",
    "    if iters > max_iters:\n",
    "        return\n",
    "    print (f'Iteration #{iters}')\n",
    "\n",
    "    # Draw a card\n",
    "    card, card_value = draw_card()\n",
    "    path.append(card)\n",
    "    possible_next_cards = find_card_by_value(card_value + 1 if card_value < NRCARDS else 1), \\\n",
    "                          find_card_by_value(card_value - 1 if card_value > 1 else NRCARDS)\n",
    "    print (f'Possible next cards are {possible_next_cards}')\n",
    "\n",
    "    for obj in rows:\n",
    "        for name in obj:\n",
    "            print (name, obj[name])\n",
    "\n",
    "    # Check for a sequel\n",
    "    # for index, name in enumerate(rows):\n",
    "    #     print (name)\n",
    "    #     if name in possible_next_cards and prop is 'open':\n",
    "    #         rows[name] = 'drawn'\n",
    "  \n",
    "    # find_route(rows)\n",
    "    \n"
   ]
  },
  {
   "cell_type": "code",
   "execution_count": 98,
   "metadata": {},
   "outputs": [
    {
     "output_type": "stream",
     "name": "stdout",
     "text": [
      "Iteration #1\nThe next card drawn is king\nPossible next cards are ('ace', 'queen')\nten 1\njack 1\nthree 1\nfour 1\nnine 1\nseven 1\nnine 1\njack 1\nsix 1\nsix 1\nace 3\nseven 3\nace 3\neight 3\nten 3\nseven 3\ntwo 3\nseven 3\njack 3\nthree 3\ntwo 3\nfour 3\nnine 3\nsix 3\ntwo 3\nten 3\neight 3\nqueen 3\n"
     ]
    }
   ],
   "source": [
    "find_route(rows)"
   ]
  },
  {
   "cell_type": "code",
   "execution_count": null,
   "metadata": {},
   "outputs": [],
   "source": []
  }
 ]
}